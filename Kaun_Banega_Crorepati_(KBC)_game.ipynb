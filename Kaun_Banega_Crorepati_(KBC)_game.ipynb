{
  "nbformat": 4,
  "nbformat_minor": 0,
  "metadata": {
    "colab": {
      "provenance": [],
      "authorship_tag": "ABX9TyOllHA94EnuYdax8ArQOdxh",
      "include_colab_link": true
    },
    "kernelspec": {
      "name": "python3",
      "display_name": "Python 3"
    },
    "language_info": {
      "name": "python"
    }
  },
  "cells": [
    {
      "cell_type": "markdown",
      "metadata": {
        "id": "view-in-github",
        "colab_type": "text"
      },
      "source": [
        "<a href=\"https://colab.research.google.com/github/Amit123456777/Kaun-Banega-Crorepati-KBC-game/blob/main/Kaun_Banega_Crorepati_(KBC)_game.ipynb\" target=\"_parent\"><img src=\"https://colab.research.google.com/assets/colab-badge.svg\" alt=\"Open In Colab\"/></a>"
      ]
    },
    {
      "cell_type": "code",
      "execution_count": null,
      "metadata": {
        "id": "mcpkN0Xm2QPa"
      },
      "outputs": [],
      "source": [
        "# Create a program capable of displaying questions to the user like KBC.\n",
        "# Use List data type to store the questions and their correct answers.\n",
        "# Display the final amount the person is taking home after playing the game.\n",
        "\n",
        "\n",
        "# Project (KBC GAME)\n",
        "\n",
        "print(\"KON BNEGA KRORPATI\")\n",
        "print()\n",
        "\n",
        "\n",
        "# 1 Players Name\n",
        "players = [\"players name\", \"--------------\", \"1 HARRY\", \"2 SHRAHDA\", \"3 TONY STARK\", \"4 SPIDERMAN\"]\n",
        "# print(players)\n",
        "for player in players:\n",
        "    print(player)\n",
        "\n",
        "print(\"\\n\")\n",
        "\n",
        "# 2 Quetions and options\n",
        "InventorOfPython = [\"Question: InventorOfPython is...\", \"------------------------------------\", \"a. Guido Van Rossum()\",\n",
        "                    \"b. Marks Zukerberg()\", \"c. Benjamin Franklin()\", \"d. james bond()\"]\n",
        "for inventor in InventorOfPython:\n",
        "    print(inventor)\n",
        "\n",
        "print(\"\\n\")\n",
        "\n",
        "# 3 use define funtion\n",
        "def a():\n",
        "    print(\"correct ans: \", \"a. Guido Van Rossum()\")\n",
        "    print(\"winner 10cr\")\n",
        "\n",
        "def b():\n",
        "    print(\"INCORRECT ans: \", \"b. Marks Zukerberg()\")\n",
        "    print(\"Thanks for participating\")\n",
        "\n",
        "def c():\n",
        "    print(\"INCORRECT ans: \", \"c. Benjamin Franklin()\")\n",
        "    print(\"Thanks for participating\")\n",
        "\n",
        "def d():\n",
        "    print(\"INCORRECT ans: \", \"d. james bond()\")\n",
        "    print(\"Thanks for participating\")\n",
        "\n",
        "\n",
        "\n",
        "# 4 use if-else\n",
        "harry = str(input(\"enter option (a b c d ): harry choose -> \"))\n",
        "if harry == 'a':\n",
        "    a()\n",
        "elif harry == 'b':\n",
        "    b()\n",
        "elif harry == 'c':\n",
        "    c()\n",
        "elif harry == 'd':\n",
        "    d()\n",
        "print(\"\\n\")\n",
        "\n",
        "shradha = str(input(\"enter option (a b c d ) : shradha choose -> \"))\n",
        "if shradha == 'a':\n",
        "    a()\n",
        "elif shradha == 'b':\n",
        "    b()\n",
        "elif shradha == 'c':\n",
        "    c()\n",
        "elif shradha == 'd':\n",
        "    d()\n",
        "print(\"\\n\")\n",
        "\n",
        "tony_stark = str(input(\"enter option (a b c d ) : tony_stark choose -> \"))\n",
        "if tony_stark == 'a':\n",
        "    a()\n",
        "elif tony_stark == 'b':\n",
        "    b()\n",
        "elif tony_stark == 'c':\n",
        "    c()\n",
        "elif tony_stark == 'd':\n",
        "    d()\n",
        "print(\"\\n\")\n",
        "\n",
        "spiderman = str(input(\"enter option (a b c d ) : spiderman choose -> \"))\n",
        "if spiderman == 'a':\n",
        "    a()\n",
        "elif spiderman == 'b':\n",
        "    b()\n",
        "elif spiderman == 'c':\n",
        "    c()\n",
        "elif spiderman == 'd':\n",
        "    d()"
      ]
    }
  ]
}